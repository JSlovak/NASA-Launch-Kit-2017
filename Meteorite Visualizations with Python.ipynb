{
 "cells": [
  {
   "cell_type": "markdown",
   "metadata": {},
   "source": [
    "# D3 Presents: Data Viz with Python\n",
    "* * * "
   ]
  },
  {
   "cell_type": "markdown",
   "metadata": {},
   "source": [
    "## What is this?\n",
    "* * *\n",
    "\n",
    "This is a **Jupyter Notebook!** It's an interactive web application that allows you to create documents with inline code snippets. If you don't have it already, install it [here](http://jupyter.org/install.html)\n",
    "\n",
    "**NOTE:** The above link also includes the necessary steps for installing [Anaconda](https://www.continuum.io/downloads), a distribution that includes all of the most popular packages for dealing with data in python!"
   ]
  },
  {
   "cell_type": "markdown",
   "metadata": {},
   "source": [
    "## Ok...so what are we gonna do with it?\n",
    "* * * \n",
    "We're going to walk through some cool ways to bring data to life. Looking at a spreadsheet is _boring_...let's make some graphs!"
   ]
  },
  {
   "cell_type": "markdown",
   "metadata": {},
   "source": [
    "## Import libraries"
   ]
  },
  {
   "cell_type": "markdown",
   "metadata": {},
   "source": [
    "import pandas as pd\n",
    "import numpy as np\n",
    "import matplotlib.pyplot as plt\n",
    "import seaborn as sns"
   ]
  },
  {
   "cell_type": "code",
   "execution_count": 11,
   "metadata": {
    "collapsed": true
   },
   "outputs": [],
   "source": [
    "# This is only necessary when using matplotlib in a notebook\n",
    "%matplotlib inline"
   ]
  },
  {
   "cell_type": "markdown",
   "metadata": {},
   "source": [
    "# Read in the data"
   ]
  },
  {
   "cell_type": "code",
   "execution_count": 14,
   "metadata": {
    "collapsed": true
   },
   "outputs": [],
   "source": [
    "# using pandas read_csv function\n",
    "data = pd.read_csv('nasa_meteorite_data.csv')"
   ]
  },
  {
   "cell_type": "code",
   "execution_count": 16,
   "metadata": {
    "collapsed": false
   },
   "outputs": [
    {
     "data": {
      "text/html": [
       "<div>\n",
       "<table border=\"1\" class=\"dataframe\">\n",
       "  <thead>\n",
       "    <tr style=\"text-align: right;\">\n",
       "      <th></th>\n",
       "      <th>name</th>\n",
       "      <th>id</th>\n",
       "      <th>nametype</th>\n",
       "      <th>recclass</th>\n",
       "      <th>mass_g</th>\n",
       "      <th>fall</th>\n",
       "      <th>year</th>\n",
       "      <th>reclat</th>\n",
       "      <th>reclong</th>\n",
       "      <th>geo_location</th>\n",
       "    </tr>\n",
       "  </thead>\n",
       "  <tbody>\n",
       "    <tr>\n",
       "      <th>0</th>\n",
       "      <td>Aachen</td>\n",
       "      <td>1.0</td>\n",
       "      <td>Valid</td>\n",
       "      <td>L5</td>\n",
       "      <td>21.0</td>\n",
       "      <td>Fell</td>\n",
       "      <td>1880-01-01 00:00:00</td>\n",
       "      <td>50.77500</td>\n",
       "      <td>6.08333</td>\n",
       "      <td>(50.775000, 6.083330)</td>\n",
       "    </tr>\n",
       "    <tr>\n",
       "      <th>1</th>\n",
       "      <td>Aarhus</td>\n",
       "      <td>2.0</td>\n",
       "      <td>Valid</td>\n",
       "      <td>H6</td>\n",
       "      <td>720.0</td>\n",
       "      <td>Fell</td>\n",
       "      <td>1951-01-01 00:00:00</td>\n",
       "      <td>56.18333</td>\n",
       "      <td>10.23333</td>\n",
       "      <td>(56.183330, 10.233330)</td>\n",
       "    </tr>\n",
       "    <tr>\n",
       "      <th>2</th>\n",
       "      <td>Abee</td>\n",
       "      <td>6.0</td>\n",
       "      <td>Valid</td>\n",
       "      <td>EH4</td>\n",
       "      <td>107000.0</td>\n",
       "      <td>Fell</td>\n",
       "      <td>1952-01-01 00:00:00</td>\n",
       "      <td>54.21667</td>\n",
       "      <td>-113.00000</td>\n",
       "      <td>(54.216670, -113.000000)</td>\n",
       "    </tr>\n",
       "    <tr>\n",
       "      <th>3</th>\n",
       "      <td>Acapulco</td>\n",
       "      <td>10.0</td>\n",
       "      <td>Valid</td>\n",
       "      <td>Acapulcoite</td>\n",
       "      <td>1914.0</td>\n",
       "      <td>Fell</td>\n",
       "      <td>1976-01-01 00:00:00</td>\n",
       "      <td>16.88333</td>\n",
       "      <td>-99.90000</td>\n",
       "      <td>(16.883330, -99.900000)</td>\n",
       "    </tr>\n",
       "    <tr>\n",
       "      <th>4</th>\n",
       "      <td>Achiras</td>\n",
       "      <td>370.0</td>\n",
       "      <td>Valid</td>\n",
       "      <td>L6</td>\n",
       "      <td>780.0</td>\n",
       "      <td>Fell</td>\n",
       "      <td>1902-01-01 00:00:00</td>\n",
       "      <td>-33.16667</td>\n",
       "      <td>-64.95000</td>\n",
       "      <td>(-33.166670, -64.950000)</td>\n",
       "    </tr>\n",
       "  </tbody>\n",
       "</table>\n",
       "</div>"
      ],
      "text/plain": [
       "       name     id nametype     recclass    mass_g  fall                 year  \\\n",
       "0    Aachen    1.0    Valid           L5      21.0  Fell  1880-01-01 00:00:00   \n",
       "1    Aarhus    2.0    Valid           H6     720.0  Fell  1951-01-01 00:00:00   \n",
       "2      Abee    6.0    Valid          EH4  107000.0  Fell  1952-01-01 00:00:00   \n",
       "3  Acapulco   10.0    Valid  Acapulcoite    1914.0  Fell  1976-01-01 00:00:00   \n",
       "4   Achiras  370.0    Valid           L6     780.0  Fell  1902-01-01 00:00:00   \n",
       "\n",
       "     reclat    reclong              geo_location  \n",
       "0  50.77500    6.08333     (50.775000, 6.083330)  \n",
       "1  56.18333   10.23333    (56.183330, 10.233330)  \n",
       "2  54.21667 -113.00000  (54.216670, -113.000000)  \n",
       "3  16.88333  -99.90000   (16.883330, -99.900000)  \n",
       "4 -33.16667  -64.95000  (-33.166670, -64.950000)  "
      ]
     },
     "execution_count": 16,
     "metadata": {},
     "output_type": "execute_result"
    }
   ],
   "source": [
    "# check the first few rows to get a peek at the data\n",
    "data.head()"
   ]
  },
  {
   "cell_type": "markdown",
   "metadata": {},
   "source": [
    "## A few other ways to check out the data frame..."
   ]
  },
  {
   "cell_type": "code",
   "execution_count": 20,
   "metadata": {
    "collapsed": false
   },
   "outputs": [
    {
     "name": "stdout",
     "output_type": "stream",
     "text": [
      "<class 'pandas.core.frame.DataFrame'>\n",
      "RangeIndex: 45716 entries, 0 to 45715\n",
      "Data columns (total 10 columns):\n",
      "name            45716 non-null object\n",
      "id              45716 non-null float64\n",
      "nametype        45716 non-null object\n",
      "recclass        45716 non-null object\n",
      "mass_g          45585 non-null float64\n",
      "fall            45716 non-null object\n",
      "year            45428 non-null object\n",
      "reclat          38401 non-null float64\n",
      "reclong         38401 non-null float64\n",
      "geo_location    38401 non-null object\n",
      "dtypes: float64(4), object(6)\n",
      "memory usage: 3.5+ MB\n"
     ]
    }
   ],
   "source": [
    "# see the data types and how many rows there are\n",
    "data.info()"
   ]
  },
  {
   "cell_type": "code",
   "execution_count": 21,
   "metadata": {
    "collapsed": false
   },
   "outputs": [
    {
     "data": {
      "text/html": [
       "<div>\n",
       "<table border=\"1\" class=\"dataframe\">\n",
       "  <thead>\n",
       "    <tr style=\"text-align: right;\">\n",
       "      <th></th>\n",
       "      <th>name</th>\n",
       "      <th>id</th>\n",
       "      <th>nametype</th>\n",
       "      <th>recclass</th>\n",
       "      <th>mass_g</th>\n",
       "      <th>fall</th>\n",
       "      <th>year</th>\n",
       "      <th>reclat</th>\n",
       "      <th>reclong</th>\n",
       "      <th>geo_location</th>\n",
       "    </tr>\n",
       "  </thead>\n",
       "  <tbody>\n",
       "    <tr>\n",
       "      <th>45711</th>\n",
       "      <td>Zillah 002</td>\n",
       "      <td>31356.0</td>\n",
       "      <td>Valid</td>\n",
       "      <td>Eucrite</td>\n",
       "      <td>172.0</td>\n",
       "      <td>Found</td>\n",
       "      <td>1990-01-01 00:00:00</td>\n",
       "      <td>29.03700</td>\n",
       "      <td>17.01850</td>\n",
       "      <td>(29.037000, 17.018500)</td>\n",
       "    </tr>\n",
       "    <tr>\n",
       "      <th>45712</th>\n",
       "      <td>Zinder</td>\n",
       "      <td>30409.0</td>\n",
       "      <td>Valid</td>\n",
       "      <td>Pallasite, ungrouped</td>\n",
       "      <td>46.0</td>\n",
       "      <td>Found</td>\n",
       "      <td>1999-01-01 00:00:00</td>\n",
       "      <td>13.78333</td>\n",
       "      <td>8.96667</td>\n",
       "      <td>(13.783330, 8.966670)</td>\n",
       "    </tr>\n",
       "    <tr>\n",
       "      <th>45713</th>\n",
       "      <td>Zlin</td>\n",
       "      <td>30410.0</td>\n",
       "      <td>Valid</td>\n",
       "      <td>H4</td>\n",
       "      <td>3.3</td>\n",
       "      <td>Found</td>\n",
       "      <td>1939-01-01 00:00:00</td>\n",
       "      <td>49.25000</td>\n",
       "      <td>17.66667</td>\n",
       "      <td>(49.250000, 17.666670)</td>\n",
       "    </tr>\n",
       "    <tr>\n",
       "      <th>45714</th>\n",
       "      <td>Zubkovsky</td>\n",
       "      <td>31357.0</td>\n",
       "      <td>Valid</td>\n",
       "      <td>L6</td>\n",
       "      <td>2167.0</td>\n",
       "      <td>Found</td>\n",
       "      <td>2003-01-01 00:00:00</td>\n",
       "      <td>49.78917</td>\n",
       "      <td>41.50460</td>\n",
       "      <td>(49.789170, 41.504600)</td>\n",
       "    </tr>\n",
       "    <tr>\n",
       "      <th>45715</th>\n",
       "      <td>Zulu Queen</td>\n",
       "      <td>30414.0</td>\n",
       "      <td>Valid</td>\n",
       "      <td>L3.7</td>\n",
       "      <td>200.0</td>\n",
       "      <td>Found</td>\n",
       "      <td>1976-01-01 00:00:00</td>\n",
       "      <td>33.98333</td>\n",
       "      <td>-115.68333</td>\n",
       "      <td>(33.983330, -115.683330)</td>\n",
       "    </tr>\n",
       "  </tbody>\n",
       "</table>\n",
       "</div>"
      ],
      "text/plain": [
       "             name       id nametype              recclass  mass_g   fall  \\\n",
       "45711  Zillah 002  31356.0    Valid               Eucrite   172.0  Found   \n",
       "45712      Zinder  30409.0    Valid  Pallasite, ungrouped    46.0  Found   \n",
       "45713        Zlin  30410.0    Valid                    H4     3.3  Found   \n",
       "45714   Zubkovsky  31357.0    Valid                    L6  2167.0  Found   \n",
       "45715  Zulu Queen  30414.0    Valid                  L3.7   200.0  Found   \n",
       "\n",
       "                      year    reclat    reclong              geo_location  \n",
       "45711  1990-01-01 00:00:00  29.03700   17.01850    (29.037000, 17.018500)  \n",
       "45712  1999-01-01 00:00:00  13.78333    8.96667     (13.783330, 8.966670)  \n",
       "45713  1939-01-01 00:00:00  49.25000   17.66667    (49.250000, 17.666670)  \n",
       "45714  2003-01-01 00:00:00  49.78917   41.50460    (49.789170, 41.504600)  \n",
       "45715  1976-01-01 00:00:00  33.98333 -115.68333  (33.983330, -115.683330)  "
      ]
     },
     "execution_count": 21,
     "metadata": {},
     "output_type": "execute_result"
    }
   ],
   "source": [
    "# the opposite of head\n",
    "data.tail()"
   ]
  },
  {
   "cell_type": "markdown",
   "metadata": {},
   "source": [
    "## Finding important figures in the data"
   ]
  },
  {
   "cell_type": "code",
   "execution_count": 30,
   "metadata": {
    "collapsed": false
   },
   "outputs": [
    {
     "data": {
      "text/html": [
       "<div>\n",
       "<table border=\"1\" class=\"dataframe\">\n",
       "  <thead>\n",
       "    <tr style=\"text-align: right;\">\n",
       "      <th></th>\n",
       "      <th>name</th>\n",
       "      <th>id</th>\n",
       "      <th>nametype</th>\n",
       "      <th>recclass</th>\n",
       "      <th>mass_g</th>\n",
       "      <th>fall</th>\n",
       "      <th>year</th>\n",
       "      <th>reclat</th>\n",
       "      <th>reclong</th>\n",
       "      <th>geo_location</th>\n",
       "    </tr>\n",
       "  </thead>\n",
       "  <tbody>\n",
       "    <tr>\n",
       "      <th>16383</th>\n",
       "      <td>Hoba</td>\n",
       "      <td>11890.0</td>\n",
       "      <td>Valid</td>\n",
       "      <td>Iron, IVB</td>\n",
       "      <td>60000000.0</td>\n",
       "      <td>Found</td>\n",
       "      <td>1920-01-01 00:00:00</td>\n",
       "      <td>-19.58333</td>\n",
       "      <td>17.91667</td>\n",
       "      <td>(-19.583330, 17.916670)</td>\n",
       "    </tr>\n",
       "    <tr>\n",
       "      <th>5336</th>\n",
       "      <td>Cape York</td>\n",
       "      <td>5262.0</td>\n",
       "      <td>Valid</td>\n",
       "      <td>Iron, IIIAB</td>\n",
       "      <td>58200000.0</td>\n",
       "      <td>Found</td>\n",
       "      <td>1818-01-01 00:00:00</td>\n",
       "      <td>76.13333</td>\n",
       "      <td>-64.93333</td>\n",
       "      <td>(76.133330, -64.933330)</td>\n",
       "    </tr>\n",
       "    <tr>\n",
       "      <th>5329</th>\n",
       "      <td>Campo del Cielo</td>\n",
       "      <td>5247.0</td>\n",
       "      <td>Valid</td>\n",
       "      <td>Iron, IAB-MG</td>\n",
       "      <td>50000000.0</td>\n",
       "      <td>Found</td>\n",
       "      <td>1576-01-01 00:00:00</td>\n",
       "      <td>-27.46667</td>\n",
       "      <td>-60.58333</td>\n",
       "      <td>(-27.466670, -60.583330)</td>\n",
       "    </tr>\n",
       "    <tr>\n",
       "      <th>5333</th>\n",
       "      <td>Canyon Diablo</td>\n",
       "      <td>5257.0</td>\n",
       "      <td>Valid</td>\n",
       "      <td>Iron, IAB-MG</td>\n",
       "      <td>30000000.0</td>\n",
       "      <td>Found</td>\n",
       "      <td>1891-01-01 00:00:00</td>\n",
       "      <td>35.05000</td>\n",
       "      <td>-111.03333</td>\n",
       "      <td>(35.050000, -111.033330)</td>\n",
       "    </tr>\n",
       "    <tr>\n",
       "      <th>3433</th>\n",
       "      <td>Armanty</td>\n",
       "      <td>2335.0</td>\n",
       "      <td>Valid</td>\n",
       "      <td>Iron, IIIE</td>\n",
       "      <td>28000000.0</td>\n",
       "      <td>Found</td>\n",
       "      <td>1898-01-01 00:00:00</td>\n",
       "      <td>47.00000</td>\n",
       "      <td>88.00000</td>\n",
       "      <td>(47.000000, 88.000000)</td>\n",
       "    </tr>\n",
       "  </tbody>\n",
       "</table>\n",
       "</div>"
      ],
      "text/plain": [
       "                  name       id nametype      recclass      mass_g   fall  \\\n",
       "16383             Hoba  11890.0    Valid     Iron, IVB  60000000.0  Found   \n",
       "5336         Cape York   5262.0    Valid   Iron, IIIAB  58200000.0  Found   \n",
       "5329   Campo del Cielo   5247.0    Valid  Iron, IAB-MG  50000000.0  Found   \n",
       "5333     Canyon Diablo   5257.0    Valid  Iron, IAB-MG  30000000.0  Found   \n",
       "3433           Armanty   2335.0    Valid    Iron, IIIE  28000000.0  Found   \n",
       "\n",
       "                      year    reclat    reclong              geo_location  \n",
       "16383  1920-01-01 00:00:00 -19.58333   17.91667   (-19.583330, 17.916670)  \n",
       "5336   1818-01-01 00:00:00  76.13333  -64.93333   (76.133330, -64.933330)  \n",
       "5329   1576-01-01 00:00:00 -27.46667  -60.58333  (-27.466670, -60.583330)  \n",
       "5333   1891-01-01 00:00:00  35.05000 -111.03333  (35.050000, -111.033330)  \n",
       "3433   1898-01-01 00:00:00  47.00000   88.00000    (47.000000, 88.000000)  "
      ]
     },
     "execution_count": 30,
     "metadata": {},
     "output_type": "execute_result"
    }
   ],
   "source": [
    "# top 5 largest meteorites\n",
    "data.sort_values('mass_g',ascending=False).head()"
   ]
  },
  {
   "cell_type": "code",
   "execution_count": 34,
   "metadata": {
    "collapsed": false
   },
   "outputs": [],
   "source": [
    "# find the largest meteorite that \"fell\" or was witnessed falling\n",
    "# data.sort_values('mass_g',ascending=False).apply(lambda x: x['fall'] == 'Fell')"
   ]
  },
  {
   "cell_type": "code",
   "execution_count": null,
   "metadata": {
    "collapsed": true
   },
   "outputs": [],
   "source": []
  }
 ],
 "metadata": {
  "anaconda-cloud": {},
  "kernelspec": {
   "display_name": "Python [conda root]",
   "language": "python",
   "name": "conda-root-py"
  },
  "language_info": {
   "codemirror_mode": {
    "name": "ipython",
    "version": 3
   },
   "file_extension": ".py",
   "mimetype": "text/x-python",
   "name": "python",
   "nbconvert_exporter": "python",
   "pygments_lexer": "ipython3",
   "version": "3.5.2"
  }
 },
 "nbformat": 4,
 "nbformat_minor": 1
}
